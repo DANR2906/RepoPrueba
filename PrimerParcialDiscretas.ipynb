{
  "nbformat": 4,
  "nbformat_minor": 0,
  "metadata": {
    "colab": {
      "name": "PrimerParcialDiscretas.ipynb",
      "provenance": [],
      "collapsed_sections": [
        "tg-YudZBoL7U",
        "-m0OxGAb8CaZ",
        "in6VIk4tpar7"
      ],
      "toc_visible": true,
      "include_colab_link": true
    },
    "kernelspec": {
      "name": "python3",
      "display_name": "Python 3"
    }
  },
  "cells": [
    {
      "cell_type": "markdown",
      "metadata": {
        "id": "view-in-github",
        "colab_type": "text"
      },
      "source": [
        "<a href=\"https://colab.research.google.com/github/DANR2906/RepoPrueba/blob/master/PrimerParcialDiscretas.ipynb\" target=\"_parent\"><img src=\"https://colab.research.google.com/assets/colab-badge.svg\" alt=\"Open In Colab\"/></a>"
      ]
    },
    {
      "cell_type": "markdown",
      "metadata": {
        "id": "FwFvZQoY-DOT",
        "colab_type": "text"
      },
      "source": [
        "#**PUNTO 2**\n"
      ]
    },
    {
      "cell_type": "markdown",
      "metadata": {
        "id": "ilrSi3q--ICk",
        "colab_type": "text"
      },
      "source": [
        "##Sea $S = x_1y_1 + x_2y_2 + ...+ x_ny_n$, donde $x_1, x_2, ..., x_n$ y $y_1, y_2, ..., y_n$ son dos secuencias diferentes de números reales positivos, cada una conteniendo n elementos.\n",
        "\n",
        "##a) Demuestre que S toma el máximo valor cuando las dos secuencias están ordenadas ascendentemente.\n",
        "\n",
        "##b) Demuestre que S toma el mínimo valor cuando las dos secuencias están ordenadas en sentido contrario (una ascendente y la otra descendente)."
      ]
    },
    {
      "cell_type": "markdown",
      "metadata": {
        "id": "U4DJWo10_LPJ",
        "colab_type": "text"
      },
      "source": [
        "x=$x_1, x_2, ... , x_n$ $\\qquad$ y=$y_1, y_2, ..., y_n$   \n",
        "\n",
        "S=$x_1y_1+...+x_ny_n$\n",
        "\n",
        "[] X,Y ascendentes \n",
        "\n",
        "x=$x_{k_1}+x_{k_2}+...+x_{k_n}$ $\\qquad$ y=$y_{k_1}+y_{k_2}+...+y_{k_n}$\n",
        "\n",
        "$S_k=x_{k_1}y_{k_1}+...+x_{k_1}y_{k_1}$\n",
        "\n",
        "$x_{k_1}$ es el número menor del conjunto principal de las x.\n",
        "\n",
        "$x_{k_2}$ es el número menor del subconjunto de las x que resulta sin $x_{k_1}$.\n",
        "\n",
        ".\n",
        "\n",
        ".\n",
        "\n",
        ".\n",
        "\n",
        "asi hasta $x_{k_n}$, y este mismo analisis se da para las $y_k$.\n",
        "\n",
        "∴ $\\quad$\n",
        "$x_{k_1}<x_{k_2}<...<x_{k_n} \\qquad y_{k_1}<y_{k_2}<...<y_{k_n}$\n",
        "\n",
        "---\n",
        "\n",
        "$x_{k_{n-1}}<x_{k_n}$\n",
        "\n",
        "$x_{k_{n-1}}y_{k_{n-1]}}<x_{k_n}y_{k_{n-1]}}$ \n",
        "\n",
        "A continuación se procede a realizar una sub-demostración para anexarla a la general.\n",
        "\n",
        "$x_{k_n}y_{k_{n-1}}<x_{k_n}y_{k_n}$ las $x_{k_n}$ se cancelan al estar multiplicando a ambos lados y me queda $y_{k_{n-1}}<y_{k_n}$ algo que es verdad quedando evidenciado en los inicios de este texto. por lo tanto puedo anexar la parte derecha de esta sub-demostración a la demostración principal. \n",
        "\n",
        "∴ $x_{k_{n-1}}y_{k_{n-1]}}<x_{k_n}y_{k_n}$\n",
        "\n",
        "el anterior analisis se da tambien para cuando las sucesiones x,y son descendentes. entonces con realizarla para un caso es suficiente, y ese caso es cuando ambas sucesiones son ascendentes.\n",
        "\n",
        "---\n",
        "[] X ascendente Y descendente.\n",
        "\n",
        "$x_{k_1}<x_{k_2}<...<x_{k_n} \\qquad y_{k_1}>y_{k_2}>...>y_{k_n}$\n",
        "\n",
        "la sucesión presente en la primera demostración es la misma para la siguiente demostración pero la sucesión Y cambia sus sub-indices al tratarse de una sucesión descendente.\n",
        "\n",
        "$Y= Y_{g_1}, Y_{g_2}, Y_{g_3},..., Y_{g_n}$ donde $y_{g_n}≠y_{k_n}$\n",
        "\n",
        "$S_{kg}=x_{k_1}y_{g_1}+...+x_{k_n}y_{g_n}$\n",
        "\n",
        "$y_{g_{n-1}}<y_{g_n}$\n",
        "\n",
        "$x_{k_{n-1}}y_{g_{n-1}}<x_{k_{n-1}}y_{g_n}$\n",
        "\n",
        "A continuación se procede a realizar una sub-demostración para anexarla a la general.\n",
        "\n",
        "$x_{k_{n-1}}y_{g_n}<x_{k_n}y_{g_n}$ se cancelan los terminos $y_{g_n}$ al estar presentes a cada lado multiplicando y queda como resultado $x_{k_{n-1}}<x_n$ donde llegamos a una sub-demostración que es enunciada al principio de esta segunda demostración general. por consiguiente el lado derecho de esta sub-desmostración es anexado a la demostración en general.\n",
        "\n",
        "∴$x_{k_{n-1}}y_{g_{n-1}}<x_{k_n}y_{g_n}$\n",
        "\n",
        "el anterior analisis resulta igual para el caso donde la sucesión X sea descendente y Y ascendente, entonces la demostración de un solo caso es suficiente.\n",
        "\n",
        "---\n",
        "\n",
        "[] Demostración final []\n",
        "\n",
        "$S_k>S_{kg}$\n",
        "\n",
        "$x_{k_1}y_{k_1}+...+x_{k_{n-1}}y_{k_{n-1}}+x_{k_n}y_{k_n}>x_{k_1}y_{g_1}+...+x_{k_{n-1}}y_{g_{n-1}}+x_{k_n}y_{g_n}$\n",
        "\n",
        "*se organizan de otro modo para dar una perspectiva clara*\n",
        " \n",
        " $x_{k_n}y_{k_n}+x_{k_{n-1}}y_{k_{n-1}}+...+x_{k_1}y_{k_1}>x_{k_n}y_{g_n}+x_{k_{n-1}}y_{g_{n-1}}+...+x_{k_1}y_{g_1}$\n",
        "\n",
        "$x_{k_n}$ es el mayor del conjunto de las x, asi mismo $y_{k_n}. x_{k_{n-1}}$ es el mayor del subconjunto restante de las x sin $x_{k_n}$. de este mismo modo $y_{k_{n-1}}$\n",
        "\n",
        "$x_{k_n}$ es el mayor del conjunto de las x, pero a diferencia de $y_{k_n}$ que va a ser el menor del conjunto Y. ∴ $x_{k_n}y_{g_n}$ es menor que $x_{k_n}y_{k_n}$\n",
        "\n",
        "entonces $S_k$ va a ser una sucesión de subconjuntos donde cada x,y va a ser el mayor sin el anterior x,y que pertenecen al subconjunto anterior.\n",
        "\n",
        "al tratarse de una suma finita siempre, existe desde un inicio hasta un punto(la mitad de las sucesiones) donde $S_{kg}$ va a ser mayor que $s_k$, pero despues de ese punto $S_k$ comienza a ser mayor y en gran diferencia. mientras que la parte antes de ese punto la diferencia entre cada una va a ser poca en los resultados, despues de ese punto la diferencia es bastante de una con respecto a la otra.\n",
        "\n",
        ".\n",
        "---\n",
        "---\n",
        "con todo lo anterior se logra demostrar que la suma de ambas sucesiones ascendentes es mayor que una suma donde una sucesion es ascendente y la otra descendente.\n",
        "\n",
        "---\n",
        "---\n",
        "."
      ]
    },
    {
      "cell_type": "markdown",
      "metadata": {
        "id": "i3QdK2XtBIQW",
        "colab_type": "text"
      },
      "source": [
        "a) Sin pérdida de generalidad, podemos suponer que la secuencia \"x\" ya está ordenada en orden no decreciente, porque podemos volver a etiquetar los índices. Solo hay un número finito de posibles ordenamientos para la secuencia y, por lo que si podemos demostrar que podemos aumentar la suma (o al menos mantenerla igual) siempre que encontremos que yi e yj están fuera de orden (es decir, (i <j) pero (yi> yj)) al cambiarlos, entonces habremos demostrado que la suma es mayor cuando la secuencia \"y\" está en orden no decreciente. De hecho, si realizamos el intercambio, entonces hemos agregado xiyj + xjyi a la suma y restamos xiyi + xjyj. El efecto neto es haber agregado xiyj + xjyi - xiyi − xjyj = (xj - xi) (yi - yj), lo cual no es negativo por nuestros supuestos de ordenamiento. b) Similar a la parte a)\n"
      ]
    },
    {
      "cell_type": "markdown",
      "metadata": {
        "id": "tg-YudZBoL7U",
        "colab_type": "text"
      },
      "source": [
        "#**PUNTO 3**"
      ]
    },
    {
      "cell_type": "markdown",
      "metadata": {
        "id": "-m0OxGAb8CaZ",
        "colab_type": "text"
      },
      "source": [
        "## **Construya un codigo que obtenga $\\cup_{i = 1}^\\infty$ $A_i$ y $\\cap_{i = 1}^\\infty$ $A_i$, si para cada entero positivo**\n",
        "\n",
        ">**a) Ai = {−i, −i + 1, ..., −1, 0, 1, ..., i − 1, i}**\n",
        "\n",
        ">**b) Ai = {−i, i}**\n",
        "\n"
      ]
    },
    {
      "cell_type": "code",
      "metadata": {
        "id": "SqnKXog17d8Z",
        "colab_type": "code",
        "cellView": "both",
        "colab": {}
      },
      "source": [
        "#@title Elija el punto a resolver y la cantidad de conjuntos a evaluar\n",
        "usserOption = \"a\" #@param [\"a\", \"b\"]\n",
        "numberOfSets =  2#@param {type:\"integer\"}\n"
      ],
      "execution_count": null,
      "outputs": []
    },
    {
      "cell_type": "code",
      "metadata": {
        "id": "b8mMtDTbEPgN",
        "colab_type": "code",
        "colab": {}
      },
      "source": [
        "def opcionA():\n",
        "  cc = []\n",
        "\n",
        "  for i in range(numberOfSets):\n",
        "      cc.append(set())\n",
        "\n",
        "  for i in range(numberOfSets):\n",
        "      k=i+2\n",
        "      for j in range(k):\n",
        "          cc[i].add(-j)\n",
        "      for j in range(k):\n",
        "          cc[i].add(j)\n",
        "  c=1\n",
        "  for i in cc:\n",
        "      print(f\"Conjunto{c}: {i}\")\n",
        "      c+=1\n",
        "\n",
        "  cUnion = set()\n",
        "  cInter = cc[0]\n",
        "  for i in cc:\n",
        "      cUnion = cUnion | i\n",
        "      cInter = cInter & i\n",
        "\n",
        "  print()\n",
        "  print(\"Respuestas:\")\n",
        "  print(f\"Conjunto union: {cUnion}\")\n",
        "  print(f\"Conjunto interseccion: {cInter}\")\n",
        "\n",
        "  print()\n",
        "\n",
        "\n",
        "def opcionB():\n",
        "  cc = []\n",
        "      \n",
        "  for i in range(numberOfSets):\n",
        "      cc.append(set())\n",
        "\n",
        "  for i in range(numberOfSets):\n",
        "      k=i+1\n",
        "      cc[i].add(-k)\n",
        "      cc[i].add(k)\n",
        "\n",
        "  c = 1\n",
        "  for i in cc:\n",
        "      print(f\"Conjunto{c}: {i}\")\n",
        "      c += 1\n",
        "\n",
        "  cUnion = set()\n",
        "  cInter = cc[0]\n",
        "  for i in cc:\n",
        "      cUnion = cUnion | i\n",
        "      cInter = cInter & i\n",
        "\n",
        "  print()\n",
        "  print(\"Respuestas:\")\n",
        "  print(f\"Conjunto union: {cUnion}\")\n",
        "  prueba=set()\n",
        "  if cInter == prueba:\n",
        "      print(\"Conjunto interseccion: {Vacio}\")\n",
        "  else:\n",
        "      print(f\"Conjunto interseccion: {cInter}\")\n",
        "\n",
        "  print()\n",
        "\n",
        "if usserOption==\"a\":\n",
        "        opcionA()\n",
        "\n",
        "elif usserOption==\"b\":\n",
        "        opcionB()"
      ],
      "execution_count": null,
      "outputs": []
    },
    {
      "cell_type": "markdown",
      "metadata": {
        "id": "in6VIk4tpar7",
        "colab_type": "text"
      },
      "source": [
        "###Código alternativo"
      ]
    },
    {
      "cell_type": "code",
      "metadata": {
        "id": "hI7dTSYPpAX7",
        "colab_type": "code",
        "cellView": "both",
        "colab": {}
      },
      "source": [
        "\n",
        "\n",
        "b=True\n",
        "while b:\n",
        "    print()\n",
        "    print(\" ///Menu///\")\n",
        "    print(\"Construya un codigo que obtenga ∪∞i=1Ai y ∩∞i=1Ai, si para cada entero positivo\")\n",
        "    print(\"a) Ai = {−i, −i + 1, ..., −1, 0, 1, ..., i − 1, i}\")\n",
        "    print(\"b) Ai = {−i, i}\")\n",
        "    print(\"Elija el punto a resolver (stop para finalizar): \", end=\"\")\n",
        "    x=input()\n",
        "\n",
        "    if x==\"a\":\n",
        "        cc = []\n",
        "\n",
        "        n = int(input(\"Digite el numero de los conjutos: \"))\n",
        "\n",
        "        for i in range(n):\n",
        "            cc.append(set())\n",
        "\n",
        "        for i in range(n):\n",
        "            k=i+2\n",
        "            for j in range(k):\n",
        "                cc[i].add(-j)\n",
        "            for j in range(k):\n",
        "                cc[i].add(j)\n",
        "        c=1\n",
        "        for i in cc:\n",
        "            print(f\"Conjunto{c}: {i}\")\n",
        "            c+=1\n",
        "\n",
        "        cUnion = set()\n",
        "        cInter = cc[0]\n",
        "        for i in cc:\n",
        "            cUnion = cUnion | i\n",
        "            cInter = cInter & i\n",
        "\n",
        "        print()\n",
        "        print(\"Respuestas:\")\n",
        "        print(f\"Conjunto union: {cUnion}\")\n",
        "        print(f\"Conjunto interseccion: {cInter}\")\n",
        "\n",
        "        print()\n",
        "        stop = input(\"Enter para continuar...\")\n",
        "\n",
        "    elif x==\"b\":\n",
        "        cc = []\n",
        "\n",
        "        n = int(input(\"Digite el numero de los conjutos: \"))\n",
        "\n",
        "        for i in range(n):\n",
        "            cc.append(set())\n",
        "\n",
        "        for i in range(n):\n",
        "            k=i+1\n",
        "            cc[i].add(-k)\n",
        "            cc[i].add(k)\n",
        "\n",
        "        c = 1\n",
        "        for i in cc:\n",
        "            print(f\"Conjunto{c}: {i}\")\n",
        "            c += 1\n",
        "\n",
        "        cUnion = set()\n",
        "        cInter = cc[0]\n",
        "        for i in cc:\n",
        "            cUnion = cUnion | i\n",
        "            cInter = cInter & i\n",
        "\n",
        "        print()\n",
        "        print(\"Respuestas:\")\n",
        "        print(f\"Conjunto union: {cUnion}\")\n",
        "        prueba=set()\n",
        "        if cInter == prueba:\n",
        "            print(\"Conjunto interseccion: {Vacio}\")\n",
        "        else:\n",
        "            print(f\"Conjunto interseccion: {cInter}\")\n",
        "\n",
        "        print()\n",
        "        stop = input(\"Enter para continuar...\")\n",
        "\n",
        "    elif x==\"stop\" or x==\"STOP\" or x==\"Stop\":\n",
        "      \n",
        "        b=False\n",
        "    else:\n",
        "        print()\n",
        "        print(\"Ese punto no existe.\")\n",
        "        print()\n",
        "        stop = input(\"Enter para continuar...\")"
      ],
      "execution_count": null,
      "outputs": []
    },
    {
      "cell_type": "markdown",
      "metadata": {
        "id": "heuEZueYn3gC",
        "colab_type": "text"
      },
      "source": [
        "#**PUNTO 4**\n"
      ]
    },
    {
      "cell_type": "markdown",
      "metadata": {
        "id": "SHinkZsqd9YL",
        "colab_type": "text"
      },
      "source": [
        "##**Demuestre que si $A, B$ y $C$ son son conjuntos, entonces, $|A \\cup B \\cup C| = |A| + |B| + |C| - |A \\cap B| - |A \\cap C| - |B \\cap C| + |A \\cap B \\cap C| $. Construya un programa que lo verifique.**"
      ]
    },
    {
      "cell_type": "markdown",
      "metadata": {
        "id": "zyoP0LcefZu6",
        "colab_type": "text"
      },
      "source": [
        "###**DEMOSTRACIÓN**\n",
        "\n",
        "\n",
        "\n",
        "\n",
        "\n",
        "\n",
        "\n",
        "\n",
        "\n",
        "\n",
        "\n",
        "\n",
        "\n",
        "\n"
      ]
    },
    {
      "cell_type": "markdown",
      "metadata": {
        "id": "zNgfbsZkKcv_",
        "colab_type": "text"
      },
      "source": [
        "####1) Partimos demostrando que $|A \\cup B | = |A| + |B| - |A \\cap B|$. "
      ]
    },
    {
      "cell_type": "markdown",
      "metadata": {
        "id": "jP8v5EaBbJl8",
        "colab_type": "text"
      },
      "source": [
        "Para ello nos apoyamos en el siguiente diagrama de venn:"
      ]
    },
    {
      "cell_type": "code",
      "metadata": {
        "id": "f97cAZgVSA5h",
        "colab_type": "code",
        "colab": {
          "base_uri": "https://localhost:8080/",
          "height": 34
        },
        "outputId": "49ed0d2b-448a-46b6-ed44-72aed58611da"
      },
      "source": [
        "from google.colab import files\n",
        "from IPython.display import Image\n",
        "\n",
        "Image('/content/diagrama.jpg', width=500)"
      ],
      "execution_count": 12,
      "outputs": [
        {
          "output_type": "execute_result",
          "data": {
            "image/jpeg": "c29tZSBjb250ZW50\n",
            "text/plain": [
              "<IPython.core.display.Image object>"
            ]
          },
          "metadata": {
            "tags": [],
            "image/jpeg": {
              "width": 500
            }
          },
          "execution_count": 12
        }
      ]
    },
    {
      "cell_type": "markdown",
      "metadata": {
        "id": "qJNX7jhl5rU0",
        "colab_type": "text"
      },
      "source": [
        "**Sean A y B dos conjuntos cualesquiera y $|A| = a + b$ , $|B| = c + b $ ;  $ \\{a, b , c\\} \\in  \\mathbb{N}$, entonces:**\n",
        "$|A| + |B| = (a + b) + (c + b)$\n",
        "\n",
        "$|A| + |B| = (a + b) + (c + b)$\n",
        "\n",
        "$|A| + |B| = (a + b + c) + b$\n",
        "\n",
        "**Según el diagrama también podemos concluir que $|A \\cup B| = a + b + c$ y que $|A \\cap B| = b$, por lo tanto:**\n",
        "\n",
        "$|A| + |B| = |A \\cup B| + |A \\cap B|$\n",
        "\n",
        "$|A \\cup B| = |A| + |B| - |A \\cap B|$"
      ]
    },
    {
      "cell_type": "markdown",
      "metadata": {
        "id": "JmLJu1MYbTV0",
        "colab_type": "text"
      },
      "source": [
        "####2) Procedemos a desarrollar la igualdad planteada inicialmente:"
      ]
    },
    {
      "cell_type": "markdown",
      "metadata": {
        "id": "bulcwt0VOuWG",
        "colab_type": "text"
      },
      "source": [
        "\n",
        "\n",
        "$|A \\cup B \\cup C| = |(A \\cup B) \\cup C|$\n",
        "\n",
        "**Sea $(A \\cup B) = D$, entonces:**\n",
        "\n",
        "$|(A \\cup B) \\cup C| = |D \\cup C|$ \n",
        "\n",
        "**Aplicando la igualdad de 1):**\n",
        "\n",
        "$|(A \\cup B) \\cup C| = |D| + |C| - |D \\cap C|$\n",
        "\n",
        "$|(A \\cup B) \\cup C| = |A \\cup B| + |C| - |(A \\cup B) \\cap C|$\n",
        "\n",
        "$|(A \\cup B) \\cup C| = |A| + |B| -|A \\cap B| + |C| - |(A \\cap C) \\cup  (B \\cap C)|$\n",
        "\n",
        "**Sea $(A \\cap C) = E$ y $(B \\cap C) = F$, entonces:**\n",
        "\n",
        "$|(A \\cup B) \\cup C| = |A| + |B| -|A \\cap B| + |C| - |E \\cup  F|$\n",
        "\n",
        "$|(A \\cup B) \\cup C| = |A| + |B| -|A \\cap B| + |C| - (|E| + |F| -|E \\cap F|)$\n",
        "\n",
        "$|(A \\cup B) \\cup C| = |A| + |B| -|A \\cap B| + |C| - (|A \\cap C| + |B \\cap C| -|(A \\cap C) \\cap (B \\cap C)|)$\n",
        "\n",
        "$|A \\cup B \\cup C| = |A| + |B| -|A \\cap B| + |C| - |A \\cap C| - |B \\cap C| + |A  \\cap B \\cap C|$\n"
      ]
    },
    {
      "cell_type": "markdown",
      "metadata": {
        "id": "0u7WcEj5a1oh",
        "colab_type": "text"
      },
      "source": [
        "###**PROGRAMA**"
      ]
    },
    {
      "cell_type": "code",
      "metadata": {
        "id": "_wxcJafyF6kk",
        "colab_type": "code",
        "cellView": "both",
        "colab": {}
      },
      "source": [
        "#@title Rellenar tamaño de los conjuntos\n",
        "\n",
        "#Tamaño del conjunto A \n",
        "setSizeA = 2 #@param {type:\"integer\"}\n",
        "#Tamaño del conjunto B\n",
        "setSizeB = 4 #@param {type:\"integer\"}\n",
        "#Tamaño del conjunto C\n",
        "setSizeC = 4 #@param {type:\"integer\"}\n",
        "\n",
        "\n",
        "#Metodo para llenar un conjunto\n",
        "def llenarConjunto(con = set(), setSize = 0):\n",
        "        for i in range(setSize):\n",
        "            con.add(int(input(\"Agrege elemento: \")))\n",
        "\n",
        "#Conjunto A del problema\n",
        "A = set()\n",
        "#Conjunto B del problema\n",
        "B = set()\n",
        "#Conjunto C del problema\n",
        "C = set()\n",
        "\n",
        "#Llenando los conjuntos A, B, C\n",
        "print()\n",
        "print(\"Declare conjuto A:\")\n",
        "llenarConjunto(A, setSizeA)\n",
        "print()\n",
        "print(\"Declare conjuto B:\")\n",
        "llenarConjunto(B, setSizeB)\n",
        "print()\n",
        "print(\"Declare conjuto C:\")\n",
        "llenarConjunto(C, setSizeC)\n",
        "\n",
        "#Imprimiendo conjuntos A, B, C\n",
        "print()\n",
        "print(f\"Conjuto A: {A}\")\n",
        "print(f\"Conjuto B: {B}\")\n",
        "print(f\"Conjuto C: {C}\")\n",
        "\n",
        "\n",
        "\n",
        "U = A | B | C\n",
        "AB = A & B\n",
        "AC = A & C\n",
        "BC = B & C\n",
        "ABC = (A & B) & C\n",
        "\n",
        "\n",
        "print()\n",
        "print(\"|A ∪ B ∪ C| = |A| + |B| + |C| - |A ∩ B| - |A ∩ C| - |B ∩ C| + |A ∩ B ∩ C|\")\n",
        "print(f\"|{U}| = |{A}| + |{B}| + |{C}| - |{AB}| - |{AC}| - |{BC}| + |{ABC}|\")\n",
        "print(f\"{len(U)} = {len(A)} + {len(B)} + {len(C)} - {len(AB)} - {len(AC)} - {len(BC)} + {len(ABC)}\")\n",
        "print(f\"{len(U)} = {len(A)+len(B)+len(C)-len(AB)-len(AC)-len(BC)+len(ABC)}\")\n",
        "print(\"Programa finalizado...\")"
      ],
      "execution_count": null,
      "outputs": []
    }
  ]
}