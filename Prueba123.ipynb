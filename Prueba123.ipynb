{
  "nbformat": 4,
  "nbformat_minor": 0,
  "metadata": {
    "colab": {
      "name": "Prueba123.ipynb",
      "provenance": [],
      "collapsed_sections": [],
      "toc_visible": true,
      "include_colab_link": true
    },
    "kernelspec": {
      "name": "python3",
      "display_name": "Python 3"
    }
  },
  "cells": [
    {
      "cell_type": "markdown",
      "metadata": {
        "id": "view-in-github",
        "colab_type": "text"
      },
      "source": [
        "<a href=\"https://colab.research.google.com/github/DANR2906/RepoPrueba/blob/master/Prueba123.ipynb\" target=\"_parent\"><img src=\"https://colab.research.google.com/assets/colab-badge.svg\" alt=\"Open In Colab\"/></a>"
      ]
    },
    {
      "cell_type": "code",
      "metadata": {
        "id": "bhSahkRb1ASL",
        "colab_type": "code",
        "outputId": "6f31d645-0561-4a33-bdcc-e2e2d900c4f0",
        "colab": {
          "base_uri": "https://localhost:8080/",
          "height": 85
        }
      },
      "source": [
        "print(\"Hola\")\n",
        "a=\"Hola\"\n",
        "b=\" David Emilio\"\n",
        "print(a+b)\n",
        "print(\"Hello World\")\n",
        "print(\"Hola branbot\")\n",
        "print(\"Branbot Care verga\")\n",
        "\n"
      ],
      "execution_count": 0,
      "outputs": [
        {
          "output_type": "stream",
          "text": [
            "Hola\n",
            "Hola David Emilio\n",
            "Hello World\n",
            "Hola branbot\n"
          ],
          "name": "stdout"
        }
      ]
    }
  ]
}